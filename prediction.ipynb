{
 "cells": [
  {
   "cell_type": "code",
   "execution_count": 8,
   "metadata": {},
   "outputs": [],
   "source": [
    "# Step 1: Import Libraries and Load the Model\n",
    "import warnings\n",
    "warnings.filterwarnings(\"ignore\")\n",
    "import numpy as np\n",
    "import tensorflow as tf\n",
    "from tensorflow.keras.datasets import imdb\n",
    "from tensorflow.keras.preprocessing import sequence\n",
    "from tensorflow.keras.models import load_model"
   ]
  },
  {
   "cell_type": "code",
   "execution_count": 9,
   "metadata": {},
   "outputs": [],
   "source": [
    "\n",
    "# Load the IMDB dataset word index\n",
    "word_index = imdb.get_word_index()\n",
    "reverse_word_index = {value: key for key, value in word_index.items()}"
   ]
  },
  {
   "cell_type": "code",
   "execution_count": 10,
   "metadata": {},
   "outputs": [
    {
     "name": "stderr",
     "output_type": "stream",
     "text": [
      "WARNING:absl:Compiled the loaded model, but the compiled metrics have yet to be built. `model.compile_metrics` will be empty until you train or evaluate the model.\n"
     ]
    },
    {
     "data": {
      "text/html": [
       "<pre style=\"white-space:pre;overflow-x:auto;line-height:normal;font-family:Menlo,'DejaVu Sans Mono',consolas,'Courier New',monospace\"><span style=\"font-weight: bold\">Model: \"sequential\"</span>\n",
       "</pre>\n"
      ],
      "text/plain": [
       "\u001b[1mModel: \"sequential\"\u001b[0m\n"
      ]
     },
     "metadata": {},
     "output_type": "display_data"
    },
    {
     "data": {
      "text/html": [
       "<pre style=\"white-space:pre;overflow-x:auto;line-height:normal;font-family:Menlo,'DejaVu Sans Mono',consolas,'Courier New',monospace\">┏━━━━━━━━━━━━━━━━━━━━━━━━━━━━━━━━━┳━━━━━━━━━━━━━━━━━━━━━━━━┳━━━━━━━━━━━━━━━┓\n",
       "┃<span style=\"font-weight: bold\"> Layer (type)                    </span>┃<span style=\"font-weight: bold\"> Output Shape           </span>┃<span style=\"font-weight: bold\">       Param # </span>┃\n",
       "┡━━━━━━━━━━━━━━━━━━━━━━━━━━━━━━━━━╇━━━━━━━━━━━━━━━━━━━━━━━━╇━━━━━━━━━━━━━━━┩\n",
       "│ embedding (<span style=\"color: #0087ff; text-decoration-color: #0087ff\">Embedding</span>)           │ (<span style=\"color: #00d7ff; text-decoration-color: #00d7ff\">None</span>, <span style=\"color: #00af00; text-decoration-color: #00af00\">500</span>, <span style=\"color: #00af00; text-decoration-color: #00af00\">128</span>)       │     <span style=\"color: #00af00; text-decoration-color: #00af00\">1,280,000</span> │\n",
       "├─────────────────────────────────┼────────────────────────┼───────────────┤\n",
       "│ simple_rnn (<span style=\"color: #0087ff; text-decoration-color: #0087ff\">SimpleRNN</span>)          │ (<span style=\"color: #00d7ff; text-decoration-color: #00d7ff\">None</span>, <span style=\"color: #00af00; text-decoration-color: #00af00\">128</span>)            │        <span style=\"color: #00af00; text-decoration-color: #00af00\">32,896</span> │\n",
       "├─────────────────────────────────┼────────────────────────┼───────────────┤\n",
       "│ dense (<span style=\"color: #0087ff; text-decoration-color: #0087ff\">Dense</span>)                   │ (<span style=\"color: #00d7ff; text-decoration-color: #00d7ff\">None</span>, <span style=\"color: #00af00; text-decoration-color: #00af00\">1</span>)              │           <span style=\"color: #00af00; text-decoration-color: #00af00\">129</span> │\n",
       "└─────────────────────────────────┴────────────────────────┴───────────────┘\n",
       "</pre>\n"
      ],
      "text/plain": [
       "┏━━━━━━━━━━━━━━━━━━━━━━━━━━━━━━━━━┳━━━━━━━━━━━━━━━━━━━━━━━━┳━━━━━━━━━━━━━━━┓\n",
       "┃\u001b[1m \u001b[0m\u001b[1mLayer (type)                   \u001b[0m\u001b[1m \u001b[0m┃\u001b[1m \u001b[0m\u001b[1mOutput Shape          \u001b[0m\u001b[1m \u001b[0m┃\u001b[1m \u001b[0m\u001b[1m      Param #\u001b[0m\u001b[1m \u001b[0m┃\n",
       "┡━━━━━━━━━━━━━━━━━━━━━━━━━━━━━━━━━╇━━━━━━━━━━━━━━━━━━━━━━━━╇━━━━━━━━━━━━━━━┩\n",
       "│ embedding (\u001b[38;5;33mEmbedding\u001b[0m)           │ (\u001b[38;5;45mNone\u001b[0m, \u001b[38;5;34m500\u001b[0m, \u001b[38;5;34m128\u001b[0m)       │     \u001b[38;5;34m1,280,000\u001b[0m │\n",
       "├─────────────────────────────────┼────────────────────────┼───────────────┤\n",
       "│ simple_rnn (\u001b[38;5;33mSimpleRNN\u001b[0m)          │ (\u001b[38;5;45mNone\u001b[0m, \u001b[38;5;34m128\u001b[0m)            │        \u001b[38;5;34m32,896\u001b[0m │\n",
       "├─────────────────────────────────┼────────────────────────┼───────────────┤\n",
       "│ dense (\u001b[38;5;33mDense\u001b[0m)                   │ (\u001b[38;5;45mNone\u001b[0m, \u001b[38;5;34m1\u001b[0m)              │           \u001b[38;5;34m129\u001b[0m │\n",
       "└─────────────────────────────────┴────────────────────────┴───────────────┘\n"
      ]
     },
     "metadata": {},
     "output_type": "display_data"
    },
    {
     "data": {
      "text/html": [
       "<pre style=\"white-space:pre;overflow-x:auto;line-height:normal;font-family:Menlo,'DejaVu Sans Mono',consolas,'Courier New',monospace\"><span style=\"font-weight: bold\"> Total params: </span><span style=\"color: #00af00; text-decoration-color: #00af00\">1,313,027</span> (5.01 MB)\n",
       "</pre>\n"
      ],
      "text/plain": [
       "\u001b[1m Total params: \u001b[0m\u001b[38;5;34m1,313,027\u001b[0m (5.01 MB)\n"
      ]
     },
     "metadata": {},
     "output_type": "display_data"
    },
    {
     "data": {
      "text/html": [
       "<pre style=\"white-space:pre;overflow-x:auto;line-height:normal;font-family:Menlo,'DejaVu Sans Mono',consolas,'Courier New',monospace\"><span style=\"font-weight: bold\"> Trainable params: </span><span style=\"color: #00af00; text-decoration-color: #00af00\">1,313,025</span> (5.01 MB)\n",
       "</pre>\n"
      ],
      "text/plain": [
       "\u001b[1m Trainable params: \u001b[0m\u001b[38;5;34m1,313,025\u001b[0m (5.01 MB)\n"
      ]
     },
     "metadata": {},
     "output_type": "display_data"
    },
    {
     "data": {
      "text/html": [
       "<pre style=\"white-space:pre;overflow-x:auto;line-height:normal;font-family:Menlo,'DejaVu Sans Mono',consolas,'Courier New',monospace\"><span style=\"font-weight: bold\"> Non-trainable params: </span><span style=\"color: #00af00; text-decoration-color: #00af00\">0</span> (0.00 B)\n",
       "</pre>\n"
      ],
      "text/plain": [
       "\u001b[1m Non-trainable params: \u001b[0m\u001b[38;5;34m0\u001b[0m (0.00 B)\n"
      ]
     },
     "metadata": {},
     "output_type": "display_data"
    },
    {
     "data": {
      "text/html": [
       "<pre style=\"white-space:pre;overflow-x:auto;line-height:normal;font-family:Menlo,'DejaVu Sans Mono',consolas,'Courier New',monospace\"><span style=\"font-weight: bold\"> Optimizer params: </span><span style=\"color: #00af00; text-decoration-color: #00af00\">2</span> (12.00 B)\n",
       "</pre>\n"
      ],
      "text/plain": [
       "\u001b[1m Optimizer params: \u001b[0m\u001b[38;5;34m2\u001b[0m (12.00 B)\n"
      ]
     },
     "metadata": {},
     "output_type": "display_data"
    }
   ],
   "source": [
    "# Load the pre-trained model with ReLU activation\n",
    "model = load_model('simple_rnn_imdb.h5')\n",
    "model.summary()"
   ]
  },
  {
   "cell_type": "code",
   "execution_count": 11,
   "metadata": {},
   "outputs": [
    {
     "data": {
      "text/plain": [
       "[array([[-0.05009373, -1.4804087 ,  0.08866433, ...,  0.15590255,\n",
       "         -0.18525073, -0.05706898],\n",
       "        [ 0.04904408, -0.08340736, -0.07525618, ..., -0.04663035,\n",
       "         -0.02467125, -0.00410252],\n",
       "        [ 0.04550211, -0.128804  , -0.03761715, ..., -0.10043721,\n",
       "         -0.03588787,  0.03482866],\n",
       "        ...,\n",
       "        [ 0.05209736,  0.05137199, -0.01447595, ...,  0.01581175,\n",
       "          0.07188998,  0.02992317],\n",
       "        [ 0.05411746,  0.09000733, -0.02183833, ..., -0.04916542,\n",
       "          0.03937121,  0.06919873],\n",
       "        [-0.02405211, -0.01130057,  0.05047428, ..., -0.02950457,\n",
       "          0.05672469, -0.06360511]], shape=(10000, 128), dtype=float32),\n",
       " array([[-0.08733076, -0.04224266,  0.11960376, ...,  0.02925831,\n",
       "          0.00462401,  0.10710828],\n",
       "        [-0.15173519,  0.04622096, -0.08882045, ..., -0.06581143,\n",
       "          0.10042755, -0.1508993 ],\n",
       "        [ 0.00696144, -0.00094304,  0.14741156, ..., -0.00447719,\n",
       "          0.02463921, -0.02931148],\n",
       "        ...,\n",
       "        [ 0.08967026,  0.02790835, -0.04214981, ..., -0.08905684,\n",
       "         -0.10145807,  0.1449984 ],\n",
       "        [ 0.01615753,  0.05441796,  0.09715801, ...,  0.13711362,\n",
       "         -0.05980128,  0.14668976],\n",
       "        [ 0.01678464, -0.05894534,  0.07741326, ...,  0.05802569,\n",
       "         -0.06127062, -0.059743  ]], shape=(128, 128), dtype=float32),\n",
       " array([[-0.08366078, -0.06909556, -0.05928839, ..., -0.06274673,\n",
       "         -0.09948886,  0.02693441],\n",
       "        [ 0.10311751, -0.08985469, -0.04958918, ..., -0.04735187,\n",
       "         -0.04238316, -0.03211424],\n",
       "        [ 0.07357264,  0.02205258,  0.02875225, ...,  0.0763488 ,\n",
       "         -0.09121836, -0.0312681 ],\n",
       "        ...,\n",
       "        [ 0.02743408, -0.05857446, -0.09449887, ...,  0.25515997,\n",
       "         -0.03455866,  0.04408944],\n",
       "        [ 0.08425112,  0.03034524, -0.07095215, ..., -0.05418729,\n",
       "         -0.08403492, -0.11097354],\n",
       "        [-0.12536013,  0.01560524, -0.08565681, ..., -0.06669632,\n",
       "          0.1225043 , -0.06922308]], shape=(128, 128), dtype=float32),\n",
       " array([ 0.02188533,  0.00282688, -0.03609822,  0.01617257,  0.01706633,\n",
       "        -0.01642876,  0.0275213 ,  0.04104009, -0.0230021 , -0.03039335,\n",
       "        -0.03387581, -0.00938707, -0.00466958,  0.03821227, -0.01915613,\n",
       "         0.00081301, -0.01532155,  0.01022108,  0.04437915,  0.01394486,\n",
       "         0.04040332, -0.01612779, -0.02626211, -0.02012411, -0.05161051,\n",
       "         0.03043267, -0.01003665,  0.02285597, -0.05756429, -0.00519323,\n",
       "        -0.03633809, -0.05457101, -0.03780065, -0.00114395,  0.05775268,\n",
       "        -0.01313177, -0.01703561,  0.04012905, -0.01328327, -0.03217472,\n",
       "        -0.04374265, -0.00264724, -0.00095728,  0.03442484,  0.01469924,\n",
       "         0.04164939, -0.04299865,  0.04501957,  0.0330827 , -0.01105129,\n",
       "         0.00113221, -0.04890658, -0.02316478, -0.01503665,  0.04633055,\n",
       "         0.00734008, -0.03035356,  0.01967365, -0.03373671, -0.0147386 ,\n",
       "        -0.00629491, -0.00023441, -0.04955276, -0.03485712, -0.01360582,\n",
       "        -0.00469387,  0.00019729, -0.03516451, -0.04667996, -0.04351642,\n",
       "        -0.04488586,  0.00274316,  0.03780668,  0.02284616, -0.0230117 ,\n",
       "        -0.00989675, -0.03301401, -0.00163313,  0.03618537,  0.00074831,\n",
       "         0.02471495, -0.02452561, -0.05413031,  0.02868805,  0.04166412,\n",
       "        -0.02808292,  0.02783564, -0.01357845, -0.06254899,  0.01144139,\n",
       "        -0.03648023,  0.00772768,  0.00973865,  0.04635154, -0.04084641,\n",
       "         0.01385194, -0.03981036, -0.0311716 , -0.04621807, -0.03051296,\n",
       "        -0.04519481,  0.03691199, -0.00223227, -0.01992846, -0.06758694,\n",
       "         0.00172912, -0.00725873, -0.05461999,  0.03205276, -0.03651992,\n",
       "        -0.04236141, -0.04653444, -0.01774791, -0.04354511, -0.05485115,\n",
       "         0.02465491,  0.02874463, -0.00883586, -0.02756418, -0.02996487,\n",
       "        -0.05444756, -0.01852772,  0.04726563, -0.06131152, -0.05239432,\n",
       "        -0.04976834, -0.02771808, -0.00235751], dtype=float32),\n",
       " array([[ 0.12902646],\n",
       "        [-0.10521474],\n",
       "        [-0.17890336],\n",
       "        [-0.24016903],\n",
       "        [-0.12729564],\n",
       "        [ 0.1460909 ],\n",
       "        [-0.10620123],\n",
       "        [ 0.13501494],\n",
       "        [-0.06664268],\n",
       "        [-0.20635992],\n",
       "        [ 0.03420821],\n",
       "        [ 0.20372973],\n",
       "        [-0.07488105],\n",
       "        [-0.04323839],\n",
       "        [ 0.05279326],\n",
       "        [-0.13620764],\n",
       "        [-0.08824057],\n",
       "        [-0.19576466],\n",
       "        [-0.10382128],\n",
       "        [-0.14825377],\n",
       "        [ 0.03743587],\n",
       "        [ 0.20124704],\n",
       "        [ 0.23397878],\n",
       "        [-0.03429498],\n",
       "        [ 0.03858378],\n",
       "        [-0.0955412 ],\n",
       "        [-0.1977429 ],\n",
       "        [-0.19770598],\n",
       "        [ 0.14769697],\n",
       "        [-0.16475272],\n",
       "        [-0.07790057],\n",
       "        [-0.07540759],\n",
       "        [-0.01107598],\n",
       "        [-0.10243093],\n",
       "        [ 0.04368588],\n",
       "        [ 0.03691265],\n",
       "        [ 0.11191422],\n",
       "        [ 0.12050295],\n",
       "        [ 0.18198128],\n",
       "        [-0.10233971],\n",
       "        [ 0.12499952],\n",
       "        [ 0.23653936],\n",
       "        [-0.01266128],\n",
       "        [ 0.13669993],\n",
       "        [-0.02412426],\n",
       "        [-0.2523392 ],\n",
       "        [ 0.22027203],\n",
       "        [-0.17033586],\n",
       "        [-0.09452912],\n",
       "        [ 0.13546216],\n",
       "        [ 0.21741863],\n",
       "        [ 0.18315747],\n",
       "        [ 0.09734948],\n",
       "        [ 0.20262277],\n",
       "        [ 0.12240483],\n",
       "        [ 0.02881055],\n",
       "        [ 0.25280663],\n",
       "        [-0.17013553],\n",
       "        [-0.1342954 ],\n",
       "        [-0.06403758],\n",
       "        [-0.10375786],\n",
       "        [ 0.2054434 ],\n",
       "        [-0.16363169],\n",
       "        [ 0.05373451],\n",
       "        [ 0.5739612 ],\n",
       "        [ 0.12742077],\n",
       "        [ 0.05720554],\n",
       "        [-0.07592947],\n",
       "        [-0.09908296],\n",
       "        [ 0.15316638],\n",
       "        [-0.09666333],\n",
       "        [-0.09509051],\n",
       "        [ 0.04051523],\n",
       "        [-0.14219049],\n",
       "        [ 0.063836  ],\n",
       "        [ 0.06263754],\n",
       "        [ 0.17812593],\n",
       "        [ 0.18617432],\n",
       "        [-0.16835307],\n",
       "        [-0.2039135 ],\n",
       "        [ 0.05209335],\n",
       "        [ 0.03333315],\n",
       "        [ 0.28903595],\n",
       "        [ 0.13870089],\n",
       "        [-0.1203124 ],\n",
       "        [-0.14143933],\n",
       "        [-0.16947138],\n",
       "        [-0.16848852],\n",
       "        [ 0.01512579],\n",
       "        [ 0.04799417],\n",
       "        [ 0.07533627],\n",
       "        [ 0.11304497],\n",
       "        [-0.11988132],\n",
       "        [-0.09048107],\n",
       "        [ 0.21887092],\n",
       "        [-0.0355544 ],\n",
       "        [-0.07299826],\n",
       "        [ 0.22171564],\n",
       "        [-0.08403168],\n",
       "        [-0.08825813],\n",
       "        [ 0.07932245],\n",
       "        [ 0.0832221 ],\n",
       "        [ 0.13466729],\n",
       "        [-0.11111471],\n",
       "        [ 0.02749799],\n",
       "        [-0.1247412 ],\n",
       "        [-0.19849436],\n",
       "        [ 0.10389257],\n",
       "        [ 0.17527859],\n",
       "        [ 0.01796054],\n",
       "        [ 0.08911474],\n",
       "        [ 0.16458449],\n",
       "        [-0.0464133 ],\n",
       "        [ 0.2427905 ],\n",
       "        [ 0.12260202],\n",
       "        [-0.2091925 ],\n",
       "        [ 0.46559396],\n",
       "        [ 0.20036252],\n",
       "        [-0.06790814],\n",
       "        [ 0.30974025],\n",
       "        [ 0.13312484],\n",
       "        [-0.16576654],\n",
       "        [-0.23223573],\n",
       "        [-0.10349945],\n",
       "        [ 0.11053663],\n",
       "        [ 0.16145812],\n",
       "        [-0.10308443],\n",
       "        [ 0.25701568]], dtype=float32),\n",
       " array([1.0165743], dtype=float32)]"
      ]
     },
     "execution_count": 11,
     "metadata": {},
     "output_type": "execute_result"
    }
   ],
   "source": [
    "model.get_weights()"
   ]
  },
  {
   "cell_type": "code",
   "execution_count": 12,
   "metadata": {},
   "outputs": [],
   "source": [
    "# Step 2: Helper Functions\n",
    "# Function to decode reviews\n",
    "def decode_review(encoded_review):\n",
    "    return ' '.join([reverse_word_index.get(i - 3, '?') for i in encoded_review])\n",
    "\n",
    "# Function to preprocess user input\n",
    "def preprocess_text(text):\n",
    "    words = text.lower().split()\n",
    "    encoded_review = [word_index.get(word, 2) + 3 for word in words]\n",
    "    padded_review = sequence.pad_sequences([encoded_review], maxlen=500)\n",
    "    return padded_review"
   ]
  },
  {
   "cell_type": "code",
   "execution_count": 13,
   "metadata": {},
   "outputs": [],
   "source": [
    "### Prediction  function\n",
    "\n",
    "def predict_sentiment(review):\n",
    "    preprocessed_input=preprocess_text(review)\n",
    "\n",
    "    prediction=model.predict(preprocessed_input)\n",
    "\n",
    "    sentiment = 'Positive' if prediction[0][0] > 0.5 else 'Negative'\n",
    "    \n",
    "    return sentiment, prediction[0][0]\n",
    "\n"
   ]
  },
  {
   "cell_type": "code",
   "execution_count": 14,
   "metadata": {},
   "outputs": [
    {
     "name": "stdout",
     "output_type": "stream",
     "text": [
      "\u001b[1m1/1\u001b[0m \u001b[32m━━━━━━━━━━━━━━━━━━━━\u001b[0m\u001b[37m\u001b[0m \u001b[1m0s\u001b[0m 243ms/step\n",
      "Review: This movie was fantastic! The acting was great and the plot was thrilling.\n",
      "Sentiment: Negative\n",
      "Prediction Score: 0.453359991312027\n"
     ]
    }
   ],
   "source": [
    "# Step 4: User Input and Prediction\n",
    "# Example review for prediction\n",
    "example_review = \"This movie was fantastic! The acting was great and the plot was thrilling.\"\n",
    "\n",
    "sentiment,score=predict_sentiment(example_review)\n",
    "\n",
    "print(f'Review: {example_review}')\n",
    "print(f'Sentiment: {sentiment}')\n",
    "print(f'Prediction Score: {score}')"
   ]
  },
  {
   "cell_type": "code",
   "execution_count": null,
   "metadata": {},
   "outputs": [],
   "source": []
  },
  {
   "cell_type": "code",
   "execution_count": null,
   "metadata": {},
   "outputs": [],
   "source": []
  },
  {
   "cell_type": "code",
   "execution_count": null,
   "metadata": {},
   "outputs": [],
   "source": []
  },
  {
   "cell_type": "code",
   "execution_count": null,
   "metadata": {},
   "outputs": [],
   "source": []
  }
 ],
 "metadata": {
  "kernelspec": {
   "display_name": "Python 3",
   "language": "python",
   "name": "python3"
  },
  "language_info": {
   "codemirror_mode": {
    "name": "ipython",
    "version": 3
   },
   "file_extension": ".py",
   "mimetype": "text/x-python",
   "name": "python",
   "nbconvert_exporter": "python",
   "pygments_lexer": "ipython3",
   "version": "3.13.5"
  }
 },
 "nbformat": 4,
 "nbformat_minor": 2
}
